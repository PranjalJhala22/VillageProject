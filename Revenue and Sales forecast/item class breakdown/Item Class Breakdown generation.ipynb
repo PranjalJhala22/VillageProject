{
 "cells": [
  {
   "cell_type": "code",
   "execution_count": 3,
   "id": "9e0eaa51-eb6f-469d-8517-5b92b86027e2",
   "metadata": {},
   "outputs": [
    {
     "name": "stdout",
     "output_type": "stream",
     "text": [
      "        Item Class             VISTA Item  No of Items  Percentage\n",
      "0           DRINKS             390ML COKE         1035    1.683584\n",
      "1           DRINKS    390ML COKE NO SUGAR          385    0.626261\n",
      "2           DRINKS             600ML COKE         8229   13.385711\n",
      "3           DRINKS    600ML COKE NO SUGAR         3237    5.265469\n",
      "4           DRINKS           600ML SPRITE         1931    3.141063\n",
      "..             ...                    ...          ...         ...\n",
      "152        POPCORN          SMALL POPCORN        49068   20.906868\n",
      "153        POPCORN    SMALL SWEET POPCORN          882    0.375802\n",
      "154  SNACK - CHIPS        SMITHS ORIGINAL         2960   45.948463\n",
      "155  SNACK - CHIPS  SMITHS SALT + VINEGAR         1539   23.890096\n",
      "156  SNACK - CHIPS        TWISTIES CHEESE         1943   30.161441\n",
      "\n",
      "[157 rows x 4 columns]\n"
     ]
    }
   ],
   "source": [
    "import pandas as pd\n",
    "\n",
    "# Load the Excel file\n",
    "file_path = 'Cleaned_Merged_Inventory.xlsx'  # Adjust path as needed\n",
    "df = pd.read_excel(file_path)\n",
    "\n",
    "# Define the target item classes\n",
    "target_classes = [\n",
    "    \"SNACK - CHIPS\", \"FOOD - VJUNIOR\", \"ICE CREAMS - OTHER\", \"DRINKS - EXTRA LARGE\",\n",
    "    \"DRINKS\", \"DRINKS - SMALL\", \"DRINKS - MEDIUM\", \"ICE CREAMS - CHOC TO\",\n",
    "    \"DRINKS - NO ICE\", \"DRINKS - LARGE\", \"POPCORN\"\n",
    "]\n",
    "\n",
    "# Filter for relevant item classes\n",
    "filtered_df = df[df['Item Class'].isin(target_classes)]\n",
    "\n",
    "# Group by Item Class and VISTA Item and sum number of items\n",
    "grouped = filtered_df.groupby(['Item Class', 'VISTA Item'], as_index=False)['No of Items'].sum()\n",
    "\n",
    "# Calculate percentage breakdown within each Item Class using transform\n",
    "grouped['Percentage'] = (\n",
    "    grouped['No of Items'] / grouped.groupby('Item Class')['No of Items'].transform('sum') * 100\n",
    ")\n",
    "\n",
    "# Optional: Save to Excel\n",
    "grouped.to_excel(\"Vista_Item_Percentage_Breakdown.xlsx\", index=False)\n",
    "\n",
    "# Display the result\n",
    "print(grouped)\n"
   ]
  },
  {
   "cell_type": "code",
   "execution_count": null,
   "id": "17dcdb7a-65bc-47bc-91b2-e3865300f1c9",
   "metadata": {},
   "outputs": [],
   "source": []
  }
 ],
 "metadata": {
  "kernelspec": {
   "display_name": "Python 3 (ipykernel)",
   "language": "python",
   "name": "python3"
  },
  "language_info": {
   "codemirror_mode": {
    "name": "ipython",
    "version": 3
   },
   "file_extension": ".py",
   "mimetype": "text/x-python",
   "name": "python",
   "nbconvert_exporter": "python",
   "pygments_lexer": "ipython3",
   "version": "3.12.4"
  }
 },
 "nbformat": 4,
 "nbformat_minor": 5
}
